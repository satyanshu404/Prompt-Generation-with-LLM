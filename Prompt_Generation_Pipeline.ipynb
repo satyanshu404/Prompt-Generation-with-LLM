{
  "nbformat": 4,
  "nbformat_minor": 0,
  "metadata": {
    "colab": {
      "provenance": [],
      "collapsed_sections": [
        "DcyEhDXg8MvK",
        "0q8XOJIU8P9I",
        "k6KcdZGV8SUD",
        "KpIc73Nt8W-R",
        "s1M2SmPi8azh"
      ],
      "gpuType": "T4"
    },
    "kernelspec": {
      "name": "python3",
      "display_name": "Python 3"
    },
    "language_info": {
      "name": "python"
    },
    "accelerator": "GPU"
  },
  "cells": [
    {
      "cell_type": "markdown",
      "source": [
        "# Dependencies"
      ],
      "metadata": {
        "id": "DcyEhDXg8MvK"
      }
    },
    {
      "cell_type": "code",
      "source": [
        "! pip -q install datasets evaluate torch nltk rank_bm25\n",
        "!pip install -q -U git+https://github.com/huggingface/transformers.git\n",
        "!pip install -q -U git+https://github.com/huggingface/accelerate.git"
      ],
      "metadata": {
        "id": "dM-FRbAvAZWj",
        "colab": {
          "base_uri": "https://localhost:8080/"
        },
        "outputId": "212e5d39-aa3a-455f-a768-4cca6d1caee5"
      },
      "execution_count": 1,
      "outputs": [
        {
          "output_type": "stream",
          "name": "stdout",
          "text": [
            "\u001b[?25l     \u001b[90m━━━━━━━━━━━━━━━━━━━━━━━━━━━━━━━━━━━━━━━━\u001b[0m \u001b[32m0.0/521.2 kB\u001b[0m \u001b[31m?\u001b[0m eta \u001b[36m-:--:--\u001b[0m\r\u001b[2K     \u001b[91m━━━━━━━━━\u001b[0m\u001b[90m╺\u001b[0m\u001b[90m━━━━━━━━━━━━━━━━━━━━━━━━━━━━━━\u001b[0m \u001b[32m122.9/521.2 kB\u001b[0m \u001b[31m3.7 MB/s\u001b[0m eta \u001b[36m0:00:01\u001b[0m\r\u001b[2K     \u001b[91m━━━━━━━━━━━━━━━━━━━━━━━━━━━━━━\u001b[0m\u001b[91m╸\u001b[0m\u001b[90m━━━━━━━━━\u001b[0m \u001b[32m399.4/521.2 kB\u001b[0m \u001b[31m5.9 MB/s\u001b[0m eta \u001b[36m0:00:01\u001b[0m\r\u001b[2K     \u001b[90m━━━━━━━━━━━━━━━━━━━━━━━━━━━━━━━━━━━━━━━━\u001b[0m \u001b[32m521.2/521.2 kB\u001b[0m \u001b[31m5.9 MB/s\u001b[0m eta \u001b[36m0:00:00\u001b[0m\n",
            "\u001b[2K     \u001b[90m━━━━━━━━━━━━━━━━━━━━━━━━━━━━━━━━━━━━━━━━\u001b[0m \u001b[32m84.1/84.1 kB\u001b[0m \u001b[31m5.6 MB/s\u001b[0m eta \u001b[36m0:00:00\u001b[0m\n",
            "\u001b[2K     \u001b[90m━━━━━━━━━━━━━━━━━━━━━━━━━━━━━━━━━━━━━━━━\u001b[0m \u001b[32m115.3/115.3 kB\u001b[0m \u001b[31m6.8 MB/s\u001b[0m eta \u001b[36m0:00:00\u001b[0m\n",
            "\u001b[2K     \u001b[90m━━━━━━━━━━━━━━━━━━━━━━━━━━━━━━━━━━━━━━━━\u001b[0m \u001b[32m134.8/134.8 kB\u001b[0m \u001b[31m8.3 MB/s\u001b[0m eta \u001b[36m0:00:00\u001b[0m\n",
            "\u001b[?25h  Installing build dependencies ... \u001b[?25l\u001b[?25hdone\n",
            "  Getting requirements to build wheel ... \u001b[?25l\u001b[?25hdone\n",
            "  Preparing metadata (pyproject.toml) ... \u001b[?25l\u001b[?25hdone\n",
            "  Building wheel for transformers (pyproject.toml) ... \u001b[?25l\u001b[?25hdone\n",
            "  Installing build dependencies ... \u001b[?25l\u001b[?25hdone\n",
            "  Getting requirements to build wheel ... \u001b[?25l\u001b[?25hdone\n",
            "  Preparing metadata (pyproject.toml) ... \u001b[?25l\u001b[?25hdone\n",
            "  Building wheel for accelerate (pyproject.toml) ... \u001b[?25l\u001b[?25hdone\n"
          ]
        }
      ]
    },
    {
      "cell_type": "markdown",
      "source": [
        "# Enable GPU"
      ],
      "metadata": {
        "id": "0q8XOJIU8P9I"
      }
    },
    {
      "cell_type": "code",
      "source": [
        "import torch\n",
        "device = \"cuda:0\" if torch.cuda.is_available() else \"cpu\"\n",
        "device"
      ],
      "metadata": {
        "colab": {
          "base_uri": "https://localhost:8080/",
          "height": 36
        },
        "id": "dMgIOe1bxvt5",
        "outputId": "e02dbc3b-0590-4502-dab6-6231480abb76"
      },
      "execution_count": 3,
      "outputs": [
        {
          "output_type": "execute_result",
          "data": {
            "text/plain": [
              "'cuda:0'"
            ],
            "application/vnd.google.colaboratory.intrinsic+json": {
              "type": "string"
            }
          },
          "metadata": {},
          "execution_count": 3
        }
      ]
    },
    {
      "cell_type": "markdown",
      "source": [
        "# Generate Summary"
      ],
      "metadata": {
        "id": "k6KcdZGV8SUD"
      }
    },
    {
      "cell_type": "code",
      "source": [
        "from transformers import BertTokenizer, GPT2Tokenizer, EncoderDecoderModel\n",
        "\n",
        "model = EncoderDecoderModel.from_pretrained(\"patrickvonplaten/bert2gpt2-cnn_dailymail-fp16\").to(device)\n",
        "bert_tokenizer = BertTokenizer.from_pretrained(\"patrickvonplaten/bert2bert-cnn_dailymail-fp16\")\n",
        "gpt2_tokenizer = GPT2Tokenizer.from_pretrained(\"gpt2\")"
      ],
      "metadata": {
        "colab": {
          "base_uri": "https://localhost:8080/"
        },
        "id": "j6xUFEdmAWvb",
        "outputId": "b609780e-22f3-493a-df2a-265a00187099"
      },
      "execution_count": 13,
      "outputs": [
        {
          "output_type": "stream",
          "name": "stderr",
          "text": [
            "You are using a model of type encoder_decoder to instantiate a model of type encoder-decoder. This is not supported for all configurations of models and can yield errors.\n"
          ]
        }
      ]
    },
    {
      "cell_type": "code",
      "source": [
        "query = \"what does a metabolic acidosis need to reverse the condition\""
      ],
      "metadata": {
        "id": "fYe0WQ_Uz-Ez"
      },
      "execution_count": 14,
      "outputs": []
    },
    {
      "cell_type": "code",
      "source": [
        "article = \"\"\"Metabolic acidosis is a condition characterized by an accumulation of acid in the body due to factors such as increased production of acid, decreased excretion of acid,\n",
        "or loss of bicarbonate (a base) from the body. Reversing metabolic acidosis typically involves addressing the underlying cause and restoring the acid-base balance in the body.\n",
        "The specific treatment depends on the underlying etiology of the metabolic acidosis. Here are some general approaches:\n",
        "\n",
        "Correcting the Underlying Cause:\n",
        "Identify and treat the underlying condition that is causing the metabolic acidosis. This may involve addressing issues such as kidney dysfunction, diabetes, lactic acidosis, or poisoning.\n",
        "\n",
        "Fluid Replacement:\n",
        "In some cases, intravenous fluids may be administered to help correct dehydration or restore electrolyte balance. The choice of fluids depends on the specific needs of the individual.\n",
        "\n",
        "Electrolyte Replacement:\n",
        "If there is an electrolyte imbalance contributing to the acidosis, such as low levels of potassium or sodium, the appropriate electrolytes may be replaced through medications or intravenous administration.\n",
        "\n",
        "Bicarbonate Administration:\n",
        "In certain situations where the acidosis is severe and the pH is very low, healthcare providers may administer sodium bicarbonate to help neutralize excess acid and raise the pH. However, the use of bicarbonate is not without risks, and its administration is carefully considered based on the specific circumstances.\n",
        "\n",
        "Treatment of Underlying Diseases:\n",
        "Manage and treat any underlying medical conditions contributing to the acidosis, such as diabetes, kidney disease, or sepsis.\n",
        "\n",
        "It's crucial to note that the treatment of metabolic acidosis should be individualized based on the specific circumstances of the patient, and medical professionals,\n",
        "such as physicians and nephrologists, play a key role in determining the appropriate course of action. Self-diagnosis and self-treatment are not recommended, and individuals experiencing symptoms of metabolic acidosis should seek prompt medical attention.\"\"\""
      ],
      "metadata": {
        "id": "kwO08dwFBcIg"
      },
      "execution_count": 15,
      "outputs": []
    },
    {
      "cell_type": "code",
      "source": [
        "input_ids = bert_tokenizer(article, return_tensors=\"pt\").input_ids.to(device)\n",
        "gen_tokens = model.generate(input_ids, max_length=2048,).to(device)\n",
        "gen_summary = gpt2_tokenizer.decode(gen_tokens[0], skip_special_tokens=True)"
      ],
      "metadata": {
        "colab": {
          "base_uri": "https://localhost:8080/"
        },
        "id": "cdfX5t9qAhv3",
        "outputId": "b37df53a-8c4a-4823-90b6-464a981fb940"
      },
      "execution_count": 20,
      "outputs": [
        {
          "output_type": "stream",
          "name": "stderr",
          "text": [
            "The attention mask and the pad token id were not set. As a consequence, you may observe unexpected behavior. Please pass your input's `attention_mask` to obtain reliable results.\n",
            "Setting `pad_token_id` to `eos_token_id`:50256 for open-end generation.\n"
          ]
        }
      ]
    },
    {
      "cell_type": "code",
      "source": [
        "gen_summary = \"\"\"Metabolic acidosis is a condition marked by an excess of acid in the body, resulting from various causes. To reverse this condition, the underlying cause must be identified and treated.\n",
        "General approaches include correcting the primary issue, administering intravenous fluids and electrolytes, and, in severe cases, using sodium bicarbonate to neutralize excess acid.\n",
        "Individualized treatment by healthcare professionals is crucial, as it depends on the specific circumstances of the patient, such as underlying diseases.\n",
        "Self-diagnosis and treatment are discouraged, and individuals should seek prompt medical attention for symptoms of metabolic acidosis.\n",
        "\"\"\""
      ],
      "metadata": {
        "id": "kdpGwURZE_y_"
      },
      "execution_count": 22,
      "outputs": []
    },
    {
      "cell_type": "markdown",
      "source": [
        "# Generate prompts"
      ],
      "metadata": {
        "id": "KpIc73Nt8W-R"
      }
    },
    {
      "cell_type": "code",
      "source": [
        "# Load model directly\n",
        "from transformers import AutoTokenizer, AutoModelForSeq2SeqLM\n",
        "\n",
        "tokenizer = AutoTokenizer.from_pretrained(\"satyanshu404/bart-large-cnn-prompt_generation\")\n",
        "seq_model = AutoModelForSeq2SeqLM.from_pretrained(\"satyanshu404/bart-large-cnn-prompt_generation\").to(device)"
      ],
      "metadata": {
        "id": "hY8wc7JJFGrf"
      },
      "execution_count": 23,
      "outputs": []
    },
    {
      "cell_type": "code",
      "source": [
        "def add_instruction(text):\n",
        "  instruction = \"\"\"Instruction: Based on the given description generate a list of all the prompts that are relavent to the document.\n",
        "  Query: \"\"\"\n",
        "  return f\"{instruction} {text}\""
      ],
      "metadata": {
        "id": "HPhLsuKOx6FZ"
      },
      "execution_count": 24,
      "outputs": []
    },
    {
      "cell_type": "code",
      "source": [
        "def generate_results(prompts, model, tokenizer):\n",
        "  input_ids = tokenizer(prompt, return_tensors=\"pt\").input_ids.to(device)\n",
        "  gen_tokens = model.generate(input_ids).to(device)\n",
        "  gen_text = tokenizer.batch_decode(gen_tokens, skip_special_tokens=True)[0]\n",
        "  return gen_text"
      ],
      "metadata": {
        "id": "ZikJKtZGyC_c"
      },
      "execution_count": 25,
      "outputs": []
    },
    {
      "cell_type": "code",
      "source": [
        "import time\n",
        "\n",
        "start = time.time()\n",
        "# extracting each sentence from each summary\n",
        "sentences = gen_summary.split('\\n')\n",
        "queries = []\n",
        "# enumerating through each summary\n",
        "for sentence in sentences:\n",
        "    # coverting into prompts\n",
        "    prompt = add_instruction(sentence)\n",
        "    # generating queries\n",
        "    gen_text = generate_results(prompt, seq_model, tokenizer)\n",
        "    # getting all the queries\n",
        "    queries.extend(gen_text.split('?'))\n",
        "\n",
        "end = time.time()"
      ],
      "metadata": {
        "id": "sZYlkH_9yLNS"
      },
      "execution_count": 36,
      "outputs": []
    },
    {
      "cell_type": "code",
      "source": [
        "print(\"time:\", end - start)"
      ],
      "metadata": {
        "colab": {
          "base_uri": "https://localhost:8080/"
        },
        "id": "cIdhvDpn6yKh",
        "outputId": "615cf5eb-dfa6-4eb3-ccf2-b65667d6db1e"
      },
      "execution_count": 37,
      "outputs": [
        {
          "output_type": "stream",
          "name": "stdout",
          "text": [
            "time: 10.214365482330322\n"
          ]
        }
      ]
    },
    {
      "cell_type": "code",
      "source": [
        "queries"
      ],
      "metadata": {
        "colab": {
          "base_uri": "https://localhost:8080/"
        },
        "id": "d6T4vy9D6usm",
        "outputId": "ea150bbc-c783-4945-87b6-0e89b29fd9a0"
      },
      "execution_count": 38,
      "outputs": [
        {
          "output_type": "execute_result",
          "data": {
            "text/plain": [
              "['Metabolic acidosis is a condition marked by an excess of acid in the body, resulting from various causes. To reverse this condition, the underlying cause must be identified and treated. What is the most common cause of metabolic acidosis',\n",
              " ' What are the main symptoms of the condition',\n",
              " '',\n",
              " 'What is the primary issue',\n",
              " ' What is the best way to treat it',\n",
              " ' What are the best ways to treat acid reflux',\n",
              " ' How do you treat it with intravenous fluids and electrolytes',\n",
              " ' How can sodium bicarbonate be used to neutralize excess acid',\n",
              " ' How long does it take for the acid to clear up',\n",
              " '',\n",
              " 'What are the most important questions to ask a patient',\n",
              " \" What is the best way to treat a patient's underlying diseases\",\n",
              " ' What are the best ways to treat an individualized treatment for a specific condition',\n",
              " ' How should a patient be treated for an underlying disease',\n",
              " ' How can a doctor help a patient get the best care for an individual',\n",
              " ', What are some of the most common symptoms of depression',\n",
              " '',\n",
              " 'Self-diagnosis and treatment are discouraged, and individuals should seek prompt medical attention for symptoms of metabolic acidosis. What are the symptoms of acidosis',\n",
              " ' What is the cause of it',\n",
              " ' What are some of the signs and symptoms',\n",
              " ' What can we do to treat it',\n",
              " ' Tell us about your experience.',\n",
              " '. What is the most important thing about this document',\n",
              " ' What is its meaning to you',\n",
              " ' What are the main points of the book',\n",
              " ' What do you think about the author of this book',\n",
              " ' Tell me about your experience with this book. What are some of the things that have happened to you since reading this',\n",
              " ' What have you learned from this book so far',\n",
              " '']"
            ]
          },
          "metadata": {},
          "execution_count": 38
        }
      ]
    },
    {
      "cell_type": "markdown",
      "source": [
        "# Top 10 prompts"
      ],
      "metadata": {
        "id": "s1M2SmPi8azh"
      }
    },
    {
      "cell_type": "code",
      "source": [
        "from rank_bm25 import BM25Okapi\n",
        "\n",
        "corpus = queries\n",
        "tokenized_corpus = [doc.split(\" \") for doc in corpus]\n",
        "bm25 = BM25Okapi(tokenized_corpus)\n",
        "\n",
        "tokenized_query = query.split(\" \")\n",
        "\n",
        "doc_scores = bm25.get_scores(tokenized_query)\n",
        "prompts = bm25.get_top_n(tokenized_query, corpus, n=10)"
      ],
      "metadata": {
        "id": "W354nERCFbCD"
      },
      "execution_count": 42,
      "outputs": []
    },
    {
      "cell_type": "code",
      "source": [
        "doc_scores"
      ],
      "metadata": {
        "id": "hZ4wns3dGTkK",
        "colab": {
          "base_uri": "https://localhost:8080/"
        },
        "outputId": "4d89c98e-6abb-4f21-920b-9e7f62f44054"
      },
      "execution_count": 43,
      "outputs": [
        {
          "output_type": "execute_result",
          "data": {
            "text/plain": [
              "array([6.37742902, 3.10319254, 0.        , 0.81474368, 1.32999138,\n",
              "       1.27201113, 0.        , 0.60833879, 3.94751667, 0.        ,\n",
              "       2.5900531 , 2.38233951, 3.83109598, 1.26298291, 2.14214815,\n",
              "       0.61053616, 0.        , 3.54592579, 0.73301882, 0.66619454,\n",
              "       0.69549876, 0.        , 0.63715215, 0.73038062, 0.93244437,\n",
              "       0.61053616, 0.81189026, 0.        , 0.        ])"
            ]
          },
          "metadata": {},
          "execution_count": 43
        }
      ]
    },
    {
      "cell_type": "code",
      "source": [
        "prompts"
      ],
      "metadata": {
        "colab": {
          "base_uri": "https://localhost:8080/"
        },
        "id": "gyOoYXBuzwRJ",
        "outputId": "3f51c1ac-27d8-4280-fba8-1078e51274e6"
      },
      "execution_count": 44,
      "outputs": [
        {
          "output_type": "execute_result",
          "data": {
            "text/plain": [
              "['Metabolic acidosis is a condition marked by an excess of acid in the body, resulting from various causes. To reverse this condition, the underlying cause must be identified and treated. What is the most common cause of metabolic acidosis',\n",
              " ' How long does it take for the acid to clear up',\n",
              " ' What are the best ways to treat an individualized treatment for a specific condition',\n",
              " 'Self-diagnosis and treatment are discouraged, and individuals should seek prompt medical attention for symptoms of metabolic acidosis. What are the symptoms of acidosis',\n",
              " ' What are the main symptoms of the condition',\n",
              " 'What are the most important questions to ask a patient',\n",
              " \" What is the best way to treat a patient's underlying diseases\",\n",
              " ' How can a doctor help a patient get the best care for an individual',\n",
              " ' What is the best way to treat it',\n",
              " ' What are the best ways to treat acid reflux']"
            ]
          },
          "metadata": {},
          "execution_count": 44
        }
      ]
    },
    {
      "cell_type": "code",
      "source": [],
      "metadata": {
        "id": "dldgWbFe7ouV"
      },
      "execution_count": null,
      "outputs": []
    }
  ]
}